{
 "cells": [
  {
   "cell_type": "markdown",
   "metadata": {
    "slideshow": {
     "slide_type": "-"
    }
   },
   "source": [
    "```bash\n",
    "$ pip install natasha\n",
    "```"
   ]
  },
  {
   "cell_type": "markdown",
   "metadata": {
    "slideshow": {
     "slide_type": "-"
    }
   },
   "source": [
    "https://natasha.github.io/demo/"
   ]
  },
  {
   "cell_type": "code",
   "execution_count": 204,
   "metadata": {
    "slideshow": {
     "slide_type": "-"
    }
   },
   "outputs": [],
   "source": [
    "import natasha as ntsh\n",
    "import os"
   ]
  },
  {
   "cell_type": "code",
   "execution_count": 206,
   "metadata": {},
   "outputs": [],
   "source": [
    "# приведение файла с сущностями от к множеству сущностей\n",
    "# каждая сущность - кортеж (тип, начало, конец, сущность)\n",
    "def make_entities(file):\n",
    "    # открыть, считать и разбить на строки (сущности) файл\n",
    "    text = file.read().split('\\n')\n",
    "    # оставить в сущностях только их тип, начало, конец и строку с ней\n",
    "    text = [line[line.index('\\t')+1:].replace('\\t', ' ') for line in text if line != '']\n",
    "    # привести сущности из строк к кортежам\n",
    "    entities = [entity.split(' ') for entity in text]\n",
    "    entities = set([(entity[0], int(entity[1]), int(entity[2]), ' '.join(entity[3:])) for entity in entities])\n",
    "    # получить отдельно сущности разных типов\n",
    "    per_entities = set([entity for entity in entities if entity[0] == 'PER'])\n",
    "    loc_entities = set([entity for entity in entities if entity[0] == 'LOC'])\n",
    "    org_entities = set([entity for entity in entities if entity[0] == 'ORG'])\n",
    "    return entities, per_entities, loc_entities, org_entities\n"
   ]
  },
  {
   "cell_type": "code",
   "execution_count": 207,
   "metadata": {},
   "outputs": [],
   "source": [
    "def make_my_entities(text, matches, entities_type):\n",
    "    entities = set()\n",
    "    for match in matches:\n",
    "        #print(match.span, match.fact)\n",
    "        poses = []\n",
    "        entity = \"\"\n",
    "        for token in match.tokens:\n",
    "            # оставляем в очередном токене только позицию и сущность\n",
    "            ent, pos = [i for i in token][:2]\n",
    "            # natasha учитывает \\n как символ, а корпус - нет => нужен сдвиг позиции - d\n",
    "            d = text[:pos[0]].count('\\n')\n",
    "            pos = [pos[0]+d, pos[1]+d]\n",
    "            poses.append(pos)\n",
    "            entity = entity + ent + ' '\n",
    "        entity = (entities_type, poses[0][0], poses[-1][1], entity[:-1])\n",
    "        entities.add(entity)\n",
    "    return entities\n"
   ]
  },
  {
   "cell_type": "code",
   "execution_count": 208,
   "metadata": {},
   "outputs": [],
   "source": [
    "# создание списка файлов корпуса для чтения\n",
    "corpus = 'Collection3'\n",
    "files = os.listdir(corpus)\n",
    "files = [file[:-4] for file in files if '.txt' in file]"
   ]
  },
  {
   "cell_type": "code",
   "execution_count": 214,
   "metadata": {},
   "outputs": [
    {
     "name": "stdout",
     "output_type": "stream",
     "text": [
      "CPU times: user 8min 41s, sys: 635 ms, total: 8min 42s\n",
      "Wall time: 8min 42s\n"
     ]
    }
   ],
   "source": [
    "%%time\n",
    "TP_per = FP_per = FN_per = 0\n",
    "TP_loc = FP_loc = FN_loc = 0\n",
    "TP_org = FP_org = FN_org = 0\n",
    "TP = FP = FN = 0\n",
    "for file in files:\n",
    "    # октрытие и чтение файла\n",
    "    text = open('Collection3/' + file + '.txt', 'r').read()\n",
    "    # подготовленные в корпусе сущности из файла\n",
    "    entities, per_entities, loc_entities, org_entities, = make_entities(open('Collection3/' + file + '.ann', 'r'))\n",
    "    # экстракторы natasha\n",
    "    per_extractor = ntsh.NamesExtractor()\n",
    "    loc_extractor = ntsh.LocationExtractor()\n",
    "    org_extractor = ntsh.OrganisationExtractor()\n",
    "    # извлеченные сущности\n",
    "    per_matches = per_extractor(text)\n",
    "    loc_matches = loc_extractor(text)\n",
    "    org_matches = org_extractor(text)\n",
    "    # извлеченные сущности в нужном формате\n",
    "    my_per_entities = make_my_entities(text, per_matches, \"PER\")\n",
    "    my_loc_entities = make_my_entities(text, loc_matches, \"LOC\")\n",
    "    my_org_entities = make_my_entities(text, org_matches, \"ORG\")\n",
    "    my_entities = my_per_entities | my_loc_entities | my_org_entities\n",
    "    \n",
    "    TP_per += len(my_per_entities & per_entities)\n",
    "    FP_per += len(my_per_entities - per_entities)\n",
    "    FN_per += len(per_entities - my_per_entities)\n",
    "    \n",
    "    TP_org += len(my_org_entities & org_entities)\n",
    "    FP_org += len(my_org_entities - org_entities)\n",
    "    FN_org += len(org_entities - my_org_entities)\n",
    "    \n",
    "    TP_loc += len(my_loc_entities & loc_entities)\n",
    "    FP_loc += len(my_loc_entities - loc_entities)\n",
    "    FN_loc += len(loc_entities - my_loc_entities)\n",
    "    \n",
    "    TP += len(my_entities & entities)\n",
    "    FP += len(my_entities - entities)\n",
    "    FN += len(entities - my_entities)"
   ]
  },
  {
   "cell_type": "code",
   "execution_count": 232,
   "metadata": {},
   "outputs": [],
   "source": [
    "# функция для вычисления точности, полноты и F-меры\n",
    "\n",
    "def prf(TP, FP, FN):\n",
    "    P = float(TP)/(TP+FP)\n",
    "    R = float(TP)/(TP+FN)\n",
    "    F = 2*P*R/(P+R)\n",
    "    return P, R, F"
   ]
  },
  {
   "cell_type": "code",
   "execution_count": 233,
   "metadata": {},
   "outputs": [
    {
     "name": "stdout",
     "output_type": "stream",
     "text": [
      "6297 3741 4326\n",
      "Оценки для имен\n",
      "Точность: 0.6273161984459056\n",
      "Полнота:  0.592770403840723\n",
      "F-мера:   0.6095542326121679\n"
     ]
    }
   ],
   "source": [
    "print(TP_per, FP_per, FN_per)\n",
    "P, R, F = prf(TP_per, FP_per, FN_per)\n",
    "print('Оценки для имен')\n",
    "print('Точность:', P)\n",
    "print('Полнота: ', R)\n",
    "print('F-мера:  ', F)"
   ]
  },
  {
   "cell_type": "code",
   "execution_count": 234,
   "metadata": {},
   "outputs": [
    {
     "name": "stdout",
     "output_type": "stream",
     "text": [
      "1653 2503 6889\n",
      "Оценки для организаций\n",
      "Точность: 0.39773820981713187\n",
      "Полнота:  0.19351439943807072\n",
      "F-мера:   0.26035596156875096\n"
     ]
    }
   ],
   "source": [
    "print(TP_org, FP_org, FN_org)\n",
    "P, R, F = prf(TP_org, FP_org, FN_org)\n",
    "print('Оценки для организаций')\n",
    "print('Точность:', P)\n",
    "print('Полнота: ', R)\n",
    "print('F-мера:  ', F)"
   ]
  },
  {
   "cell_type": "code",
   "execution_count": 235,
   "metadata": {},
   "outputs": [
    {
     "name": "stdout",
     "output_type": "stream",
     "text": [
      "5237 3840 2006\n",
      "Оценки для географических названий\n",
      "Точность: 0.5769527376886636\n",
      "Полнота:  0.7230429380091122\n",
      "F-мера:   0.6417892156862745\n"
     ]
    }
   ],
   "source": [
    "print(TP_loc, FP_loc, FN_loc)\n",
    "P, R, F = prf(TP_loc, FP_loc, FN_loc)\n",
    "print('Оценки для географических названий')\n",
    "print('Точность:', P)\n",
    "print('Полнота: ', R)\n",
    "print('F-мера:  ', F)"
   ]
  },
  {
   "cell_type": "code",
   "execution_count": 236,
   "metadata": {},
   "outputs": [
    {
     "name": "stdout",
     "output_type": "stream",
     "text": [
      "13187 10084 13221\n",
      "Общие оценки\n",
      "Точность: 0.566670963860599\n",
      "Полнота:  0.49935625568009695\n",
      "F-мера:   0.5308883029046478\n"
     ]
    }
   ],
   "source": [
    "print(TP, FP, FN)\n",
    "P, R, F = prf(TP, FP, FN)\n",
    "print('Общие оценки')\n",
    "print('Точность:', P)\n",
    "print('Полнота: ', R)\n",
    "print('F-мера:  ', F)"
   ]
  },
  {
   "cell_type": "code",
   "execution_count": null,
   "metadata": {},
   "outputs": [],
   "source": []
  }
 ],
 "metadata": {
  "celltoolbar": "Slideshow",
  "kernelspec": {
   "display_name": "Python 3",
   "language": "python",
   "name": "python3"
  },
  "language_info": {
   "codemirror_mode": {
    "name": "ipython",
    "version": 3
   },
   "file_extension": ".py",
   "mimetype": "text/x-python",
   "name": "python",
   "nbconvert_exporter": "python",
   "pygments_lexer": "ipython3",
   "version": "3.7.0"
  }
 },
 "nbformat": 4,
 "nbformat_minor": 2
}
