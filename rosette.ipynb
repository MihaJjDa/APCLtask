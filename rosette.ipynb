{
 "cells": [
  {
   "cell_type": "markdown",
   "metadata": {},
   "source": [
    "```bash\n",
    "$ pip install CMake\n",
    "\n",
    "$ pip install rosette_api\n",
    "```"
   ]
  },
  {
   "cell_type": "markdown",
   "metadata": {},
   "source": [
    "Библиотека rosette работает на основе API: через ключ, получаемый при регистрации на сайте https://www.basistech.com/text-analytics/ros-old__trashed/entity-extractor/, алгоритм исполняется на сервере\n",
    "\n",
    "Git (документация, примеры): https://github.com/rosette-api/python\n",
    "\n",
    "Существуют проблемы с установкой, без их решения работать не получится. При устранении просьба сохранить алгоритм устранения в этом ноутбуке и выложить в свободный доступ"
   ]
  },
  {
   "cell_type": "markdown",
   "metadata": {},
   "source": [
    "Для проверки работоспособности достаточно вставить свой API-ключ в фрагмент ниже и запустить"
   ]
  },
  {
   "cell_type": "code",
   "execution_count": null,
   "metadata": {
    "slideshow": {
     "slide_type": "-"
    }
   },
   "outputs": [],
   "source": [
    "from rosette.api import API\n",
    "api = API(user_key='Rosette API Key')\n",
    "result = api.ping()\n",
    "print(\"/ping: \", result)"
   ]
  },
  {
   "cell_type": "markdown",
   "metadata": {},
   "source": [
    "Пример извлечения сущностей с помощью rosette\n",
    "\n",
    "Работает только из отдельного файла .py (есть в репозитории)\n",
    "\n",
    "Задание заключается в использовании этой библиотеки для измерения точности, полноты и F-меры (по аналогии с ноутбуком natasha) на некотором корпусе (лучший вариант - Named_Entities_3 из http://labinform.ru/pub/named_entities/descr_ne.htm)"
   ]
  },
  {
   "cell_type": "code",
   "execution_count": null,
   "metadata": {},
   "outputs": [],
   "source": [
    "# -*- coding: utf-8 -*-\n",
    "from __future__ import print_function\n",
    "\n",
    "import argparse\n",
    "import json\n",
    "import os\n",
    "\n",
    "from rosette.api import API, DocumentParameters, RosetteException\n",
    "\n",
    "\n",
    "def run(key, alt_url='https://api.rosette.com/rest/v1/'):\n",
    "    \"\"\" Run the example \"\"\"\n",
    "    # Create an API instance\n",
    "    api = API(user_key=key, service_url=alt_url)\n",
    "    entities_text_data = \"The Securities and Exchange Commission today announced the leadership of the agency’s trial unit.  Bridget Fitzpatrick has been named Chief Litigation Counsel of the SEC and David Gottesman will continue to serve as the agency’s Deputy Chief Litigation Counsel. Since December 2016, Ms. Fitzpatrick and Mr. Gottesman have served as Co-Acting Chief Litigation Counsel.  In that role, they were jointly responsible for supervising the trial unit at the agency’s Washington D.C. headquarters as well as coordinating with litigators in the SEC’s 11 regional offices around the country.\"\n",
    "    params = DocumentParameters()\n",
    "    params[\"content\"] = entities_text_data\n",
    "    params[\"genre\"] = \"social-media\"\n",
    "    try:\n",
    "        return api.entities(params)\n",
    "    except RosetteException as exception:\n",
    "        print(exception)\n",
    "\n",
    "PARSER = argparse.ArgumentParser(formatter_class=argparse.ArgumentDefaultsHelpFormatter,\n",
    "                                 description='Calls the ' +\n",
    "                                             os.path.splitext(os.path.basename(__file__))[0] + \n",
    "                                             ' endpoint')\n",
    "PARSER.add_argument('-k', '--key', help='Rosette API Key', required=True)\n",
    "PARSER.add_argument('-u', '--url', help=\"Alternative API URL\",\n",
    "                    default='https://api.rosette.com/rest/v1/')\n",
    "\n",
    "if __name__ == '__main__':\n",
    "    ARGS = PARSER.parse_args()\n",
    "    RESULT = run(ARGS.key, ARGS.url)\n",
    "    print(json.dumps(RESULT, indent=2, ensure_ascii=False, sort_keys=True).encode(\"utf8\"))"
   ]
  },
  {
   "cell_type": "code",
   "execution_count": null,
   "metadata": {},
   "outputs": [],
   "source": []
  }
 ],
 "metadata": {
  "celltoolbar": "Slideshow",
  "kernelspec": {
   "display_name": "Python 3",
   "language": "python",
   "name": "python3"
  },
  "language_info": {
   "codemirror_mode": {
    "name": "ipython",
    "version": 3
   },
   "file_extension": ".py",
   "mimetype": "text/x-python",
   "name": "python",
   "nbconvert_exporter": "python",
   "pygments_lexer": "ipython3",
   "version": "3.7.0"
  }
 },
 "nbformat": 4,
 "nbformat_minor": 2
}
