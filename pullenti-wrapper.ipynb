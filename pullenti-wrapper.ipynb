{
 "cells": [
  {
   "cell_type": "markdown",
   "metadata": {},
   "source": [
    "Скачиваемая, но подключаемая только напрямую библиотека PullEnti\n",
    "\n",
    "http://pullenti.ru/DownloadPage.aspx\n",
    "\n",
    "Там же можно найти (после некоторых усилий, а еще с помощью поиска в интернете) обзорную и подробную документации, а так же ссылку на GitHub с примерами\n",
    "\n",
    "Имеет менее функциональную, но более естественную и простую оболочку для Python:\n",
    "    \n",
    "```bash\n",
    "$ pip install pullenti-wrapper\n",
    "```\n",
    "\n",
    "GitHub (описание, документация, примеры): https://github.com/pullenti/pullenti-wrapper"
   ]
  },
  {
   "cell_type": "markdown",
   "metadata": {},
   "source": [
    "Задание заключается в использовании этой библиотеки для измерения точности, полноты и F-меры (по аналогии с ноутбуком natasha) на некотором корпусе (лучший вариант - Named_Entities_3 из http://labinform.ru/pub/named_entities/descr_ne.htm)\n"
   ]
  },
  {
   "cell_type": "code",
   "execution_count": null,
   "metadata": {},
   "outputs": [],
   "source": []
  }
 ],
 "metadata": {
  "celltoolbar": "Slideshow",
  "kernelspec": {
   "display_name": "Python 3",
   "language": "python",
   "name": "python3"
  },
  "language_info": {
   "codemirror_mode": {
    "name": "ipython",
    "version": 3
   },
   "file_extension": ".py",
   "mimetype": "text/x-python",
   "name": "python",
   "nbconvert_exporter": "python",
   "pygments_lexer": "ipython3",
   "version": "3.7.0"
  }
 },
 "nbformat": 4,
 "nbformat_minor": 2
}
